{
 "cells": [
  {
   "cell_type": "code",
   "execution_count": 1,
   "metadata": {},
   "outputs": [
    {
     "name": "stdout",
     "output_type": "stream",
     "text": [
      "'perl' is not recognized as an internal or external command,\r\n",
      "operable program or batch file.\r\n",
      "warning: help: Texinfo formatting filter exited abnormally; raw Texinfo source of help text follows...\n",
      "'fminunc' is a function from the file C:\\Octave\\Octave-5.1.0.0\\mingw64\\share\\octave\\5.1.0\\m\\optimization\\fminunc.m\n",
      "\n",
      "\n",
      "\n",
      "Additional help for built-in functions and operators is\n",
      "available in the online version of the manual.  Use the command\n",
      "'doc <topic>' to search the manual index.\n",
      "\n",
      "Help and information about Octave is also available on the WWW\n",
      "at https://www.octave.org and via the help@octave.org\n",
      "mailing list.\n"
     ]
    }
   ],
   "source": [
    "help fminunc\n",
    "# fminunc(FNC, theta0)"
   ]
  },
  {
   "cell_type": "code",
   "execution_count": 15,
   "metadata": {},
   "outputs": [],
   "source": [
    "function [J, dJ] = cost(theta)\n",
    "   # J = 2 * theta .^2 - 3 * theta + 1;\n",
    "    J = 2 * theta .^3 - 3 * theta + 1;\n",
    "    #dJ = 4 * theta - 3;\n",
    "    dJ = 6 * theta.^2 - 3;\n",
    "end"
   ]
  },
  {
   "cell_type": "code",
   "execution_count": 16,
   "metadata": {},
   "outputs": [
    {
     "name": "stdout",
     "output_type": "stream",
     "text": [
      "best_theta =  0.75000\n",
      "ans = -0.40625\n"
     ]
    },
    {
     "data": {
      "image/png": "[encoded data removed]",
      "text/plain": [
       "<IPython.core.display.Image object>"
      ]
     },
     "metadata": {},
     "output_type": "display_data"
    }
   ],
   "source": [
    "theta = -3:0.01:3;\n",
    "J = cost(theta);\n",
    "plot(theta, J)\n",
    "best_theta = 0.75\n",
    "cost(best_theta)"
   ]
  },
  {
   "cell_type": "code",
   "execution_count": 18,
   "metadata": {},
   "outputs": [
    {
     "name": "stdout",
     "output_type": "stream",
     "text": [
      "options =\n",
      "\n",
      "  scalar structure containing the fields:\n",
      "\n",
      "    GradObj = on\n",
      "\n",
      "best_theta =  0.70711\n",
      "minJ = -0.41421\n"
     ]
    }
   ],
   "source": [
    "#theta_0 = -2;\n",
    "theta_0 = 3;\n",
    "options = optimset('GradObj', 'on')\n",
    "[best_theta, minJ] = fminunc(@(t)cost(t), theta_0, options)"
   ]
  },
  {
   "cell_type": "code",
   "execution_count": 20,
   "metadata": {},
   "outputs": [],
   "source": [
    "function h = sigmoid(z)\n",
    "    h = 1 ./ (1 + exp(-z));\n",
    "end"
   ]
  },
  {
   "cell_type": "code",
   "execution_count": 24,
   "metadata": {},
   "outputs": [
    {
     "data": {
      "image/png": "[encoded data removed]",
      "text/plain": [
       "<IPython.core.display.Image object>"
      ]
     },
     "metadata": {},
     "output_type": "display_data"
    }
   ],
   "source": [
    "z = -5 : 0.01 : 5;\n",
    "h = sigmoid(z);\n",
    "plot(z, h, '-r')"
   ]
  },
  {
   "cell_type": "code",
   "execution_count": 25,
   "metadata": {},
   "outputs": [],
   "source": [
    "## Cost for logistic Regression\n",
    "## Theta: a column vector of length(D+1)\n",
    "## X: design matrix of size Nx(D+1)\n",
    "## y : column vector of length N\n",
    "function [J, dJ] = costLogReg(theta, X, y)\n",
    "    J = 0;\n",
    "    [N, D] = size(X);\n",
    "#   for i = 1: N\n",
    "#       h_i = sigmoid(X(i, :) * theta); \n",
    "#       J = J + y(i)*log(h_i) + (1 - y(i)) * log(1 - h_i);\n",
    "#    end \n",
    "#    J = -J/N;\n",
    "    \n",
    "    ## compute partial gradient of J with respect to theta\n",
    "#    dJ = zeros(D, 1);\n",
    "#    for j = 1: D\n",
    "#        v_j = 0;\n",
    "#        for i = 1: N\n",
    "#            h_i = sigmoid(X(i, :) * theta);\n",
    "#            v_j = v_j + (y(i) - h_i) * X(i, j);\n",
    "#        end\n",
    "#        dJ(j) = -v_j/N;\n",
    "#    end\n",
    "    \n",
    "    ## faster version: vectorized version to compute dJ\n",
    "    h = sigmoid(X * theta);\n",
    "    J = y' * log(h) + (1 - y')*log(1 - h);\n",
    "    J = -J/N;\n",
    "    dJ = -X' * (y - h)/N;\n",
    "end"
   ]
  },
  {
   "cell_type": "code",
   "execution_count": 27,
   "metadata": {},
   "outputs": [],
   "source": [
    "## add regularization\n",
    "function [J, dJ] = costLogReg(theta, X, y, lambda = 0)\n",
    "    J = 0;\n",
    "    [N, D] = size(X);\n",
    "    h = sigmoid(X * theta);\n",
    "    J = y' * log(h) + (1 - y')*log(1 - h);\n",
    "    J = -J/N;\n",
    "    u = theta;\n",
    "    u(1) = 0;\n",
    "    J = J + lambda * u' * u;# add regurization\n",
    "    \n",
    "    dJ = -X' * (y - h)/N;\n",
    "    dJ = dJ + 2 * lambda*u;\n",
    "end"
   ]
  },
  {
   "cell_type": "code",
   "execution_count": 29,
   "metadata": {},
   "outputs": [
    {
     "name": "stdout",
     "output_type": "stream",
     "text": [
      "J =  0.69315\n",
      "dJ =\n",
      "\n",
      "   -0.5572838\n",
      "   -1.5951933\n",
      "   -3.0012830\n",
      "   37.0823374\n",
      "   -0.0098419\n",
      "    0.0019241\n",
      "    0.0155023\n",
      "    0.0083240\n",
      "   -0.0187062\n",
      "   -0.0080452\n",
      "\n"
     ]
    }
   ],
   "source": [
    "A = load('wdbc.txt');\n",
    "X = A(:,3:12);\n",
    "y = A(:, 2);\n",
    "[N, D] = size(X);\n",
    "theta_0 = zeros(D, 1);\n",
    "[J, dJ] = costLogReg(theta_0, X, y)"
   ]
  },
  {
   "cell_type": "code",
   "execution_count": 31,
   "metadata": {},
   "outputs": [
    {
     "name": "stdout",
     "output_type": "stream",
     "text": [
      "best_theta =\n",
      "\n",
      "   4.0462231\n",
      "  -0.1683923\n",
      "  -0.3935462\n",
      "  -0.0273855\n",
      "  -0.0057795\n",
      "  -0.0145539\n",
      "  -0.0203626\n",
      "  -0.0099673\n",
      "  -0.0084541\n",
      "  -0.0018871\n",
      "\n",
      "minJ =  0.23040\n"
     ]
    }
   ],
   "source": [
    "[best_theta, minJ] = fminunc(@(t)costLogReg(t, X, y, 0.1), theta_0, options)"
   ]
  },
  {
   "cell_type": "code",
   "execution_count": 32,
   "metadata": {},
   "outputs": [
    {
     "name": "stdout",
     "output_type": "stream",
     "text": [
      "best_theta =\n",
      "\n",
      "    3.644161\n",
      "   -0.377496\n",
      "    0.010467\n",
      "   -0.053781\n",
      "  -61.909943\n",
      "    5.067701\n",
      "   -1.831117\n",
      "  -83.929559\n",
      "  -11.364717\n",
      "   13.723003\n",
      "\n",
      "minJ =  0.13016\n"
     ]
    }
   ],
   "source": [
    "[best_theta, minJ] = fminunc(@(t)costLogReg(t, X, y), theta_0, options)"
   ]
  },
  {
   "cell_type": "code",
   "execution_count": null,
   "metadata": {},
   "outputs": [],
   "source": [
    "function y = classify(X, theta)\n",
    "\n",
    "end"
   ]
  }
 ],
 "metadata": {
  "kernelspec": {
   "display_name": "Octave",
   "language": "octave",
   "name": "octave"
  },
  "language_info": {
   "file_extension": ".m",
   "help_links": [
    {
     "text": "GNU Octave",
     "url": "https://www.gnu.org/software/octave/support.html"
    },
    {
     "text": "Octave Kernel",
     "url": "https://github.com/Calysto/octave_kernel"
    },
    {
     "text": "MetaKernel Magics",
     "url": "https://metakernel.readthedocs.io/en/latest/source/README.html"
    }
   ],
   "mimetype": "text/x-octave",
   "name": "octave",
   "version": "5.1.0"
  }
 },
 "nbformat": 4,
 "nbformat_minor": 2
}
